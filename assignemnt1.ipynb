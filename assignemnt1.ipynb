{
  "nbformat": 4,
  "nbformat_minor": 0,
  "metadata": {
    "colab": {
      "provenance": [],
      "authorship_tag": "ABX9TyMyHvmZCIeN4fnBxzV1m0ZQ",
      "include_colab_link": true
    },
    "kernelspec": {
      "name": "python3",
      "display_name": "Python 3"
    },
    "language_info": {
      "name": "python"
    }
  },
  "cells": [
    {
      "cell_type": "markdown",
      "metadata": {
        "id": "view-in-github",
        "colab_type": "text"
      },
      "source": [
        "<a href=\"https://colab.research.google.com/github/Vivek-code/python_basics1/blob/main/assignemnt1.ipynb\" target=\"_parent\"><img src=\"https://colab.research.google.com/assets/colab-badge.svg\" alt=\"Open In Colab\"/></a>"
      ]
    },
    {
      "cell_type": "markdown",
      "source": [
        "1. Case Study: Grocery Billing System\n",
        "Problem: A shopkeeper wants to generate a total bill using item prices.\n",
        "Task: Take a list of prices and compute the total using a loop.\n",
        "Test Case:\n",
        "Input: [50, 20, 30, 100]\n",
        "Output: Total Bill: 200"
      ],
      "metadata": {
        "id": "ADQBgwG6nTBh"
      }
    },
    {
      "cell_type": "code",
      "source": [
        "items=[50, 20, 30, 100]\n",
        "sum=0\n",
        "for item in items:\n",
        "  sum+=item\n",
        "print(f\"Total Bill : {sum}\")"
      ],
      "metadata": {
        "colab": {
          "base_uri": "https://localhost:8080/",
          "height": 0
        },
        "id": "oDpMzpkDnLga",
        "outputId": "b6218488-6f72-44fe-e53f-a18c6b87f56b"
      },
      "execution_count": 64,
      "outputs": [
        {
          "output_type": "stream",
          "name": "stdout",
          "text": [
            "Total Bill : 200\n"
          ]
        }
      ]
    },
    {
      "cell_type": "markdown",
      "source": [
        "2.Problem: Calculate the average marks of a student using a tuple of 5 subjects.\n",
        "Test Case:\n",
        "Input: (80, 90, 70, 60, 85)\n",
        "Output: Average: 77.0"
      ],
      "metadata": {
        "id": "ezJ6D0VLwOHf"
      }
    },
    {
      "cell_type": "code",
      "source": [
        "marks=[80, 90, 70, 60, 85]\n",
        "sum=0\n",
        "for mark in marks:\n",
        "  sum+=mark\n",
        "print(f\"Average : {sum/len(marks)}\")"
      ],
      "metadata": {
        "colab": {
          "base_uri": "https://localhost:8080/",
          "height": 0
        },
        "id": "C4Fu7p7xwybA",
        "outputId": "8efd0b55-2893-4712-938b-c85bf9283bdb"
      },
      "execution_count": 65,
      "outputs": [
        {
          "output_type": "stream",
          "name": "stdout",
          "text": [
            "Average : 77.0\n"
          ]
        }
      ]
    },
    {
      "cell_type": "markdown",
      "source": [
        "3.Problem: Extract unique email addresses from a list using a set.\n",
        "Test Case:\n",
        "Input: ['a@gmail.com', 'b@gmail.com', 'a@gmail.com']\n",
        "Output: {'a@gmail.com', 'b@gmail.com'}"
      ],
      "metadata": {
        "id": "wmMaUQ11xJnx"
      }
    },
    {
      "cell_type": "code",
      "source": [
        "emails=['a@gmail.com', 'b@gmail.com', 'a@gmail.com']\n",
        "emailset=set()\n",
        "for email in emails:\n",
        "  emailset.add(email)\n",
        "print(emailset)\n"
      ],
      "metadata": {
        "colab": {
          "base_uri": "https://localhost:8080/",
          "height": 0
        },
        "id": "5ngrNjhbxOFQ",
        "outputId": "7dfdce90-1116-496d-96a5-10f81ab636b4"
      },
      "execution_count": 66,
      "outputs": [
        {
          "output_type": "stream",
          "name": "stdout",
          "text": [
            "{'b@gmail.com', 'a@gmail.com'}\n"
          ]
        }
      ]
    },
    {
      "cell_type": "markdown",
      "source": [
        "4. Case Study: Attendance Tracker\n",
        "Problem: Use a dictionary to store and print student names with their attendance status.\n",
        "Test Case:\n",
        "Input: {'Alice': 'Present', 'Bob': 'Absent'}\n",
        "Output:\n",
        "Alice: Present\n",
        "Bob: Absent"
      ],
      "metadata": {
        "id": "RvRaU1nS4ZmC"
      }
    },
    {
      "cell_type": "code",
      "source": [
        "attendance={'Alice': 'Present', 'Bob': 'Absent'}\n",
        "for key, value in attendance.items():\n",
        "    print(f\"{key}: {value}\")"
      ],
      "metadata": {
        "colab": {
          "base_uri": "https://localhost:8080/",
          "height": 0
        },
        "id": "rmK1BCzAx6XB",
        "outputId": "17f61cba-c12f-4f93-df02-f427e80c0cfa"
      },
      "execution_count": 67,
      "outputs": [
        {
          "output_type": "stream",
          "name": "stdout",
          "text": [
            "Alice: Present\n",
            "Bob: Absent\n"
          ]
        }
      ]
    },
    {
      "cell_type": "markdown",
      "source": [
        "5. Case Study: Multiplication Table\n",
        "Problem: Print the multiplication table of a number using a loop.\n",
        "Test Case:\n",
        "Input: n = 4\n",
        "Output: 4 8 12 16 20 24 28 32 36 40"
      ],
      "metadata": {
        "id": "TTNeDYXMyZ0S"
      }
    },
    {
      "cell_type": "code",
      "source": [
        "n=int(input(\"enter a number\"))\n",
        "for i in range (1,11):\n",
        "  print(i*n)"
      ],
      "metadata": {
        "colab": {
          "base_uri": "https://localhost:8080/",
          "height": 0
        },
        "id": "otXLozumyi4M",
        "outputId": "15abd118-fe94-4a11-fdc2-3b96752c5af7"
      },
      "execution_count": 68,
      "outputs": [
        {
          "output_type": "stream",
          "name": "stdout",
          "text": [
            "enter a number4\n",
            "4\n",
            "8\n",
            "12\n",
            "16\n",
            "20\n",
            "24\n",
            "28\n",
            "32\n",
            "36\n",
            "40\n"
          ]
        }
      ]
    },
    {
      "cell_type": "markdown",
      "source": [
        "6. Case Study: Power Calculator\n",
        "Problem: Raise each number in a list to the power of 2 using a loop.\n",
        "Test Case:\n",
        "Input: [1, 2, 3]\n",
        "Output: [1, 4, 9]"
      ],
      "metadata": {
        "id": "fzQem3ThzLRL"
      }
    },
    {
      "cell_type": "code",
      "source": [
        "numbers=[1,2,3]\n",
        "powerarr=[]\n",
        "for num in numbers:\n",
        "  powerarr.append(num*num)\n",
        "print(powerarr)"
      ],
      "metadata": {
        "colab": {
          "base_uri": "https://localhost:8080/",
          "height": 0
        },
        "id": "9eXOOc5szPfl",
        "outputId": "64c3ade4-25f4-4cf4-fa02-7002896115e2"
      },
      "execution_count": 69,
      "outputs": [
        {
          "output_type": "stream",
          "name": "stdout",
          "text": [
            "[1, 4, 9]\n"
          ]
        }
      ]
    },
    {
      "cell_type": "markdown",
      "source": [
        "7. Case Study: Diamond Star Pattern\n",
        "Problem: A school wants to print a diamond pattern for decorations using `*`. Write a\n",
        "program using nested loops to print a diamond star pattern of height n.\n",
        "Note: The height will always be an odd number.\n",
        "Test Case:\n",
        "Input: n = 5\n",
        "Output:\n",
        "\"*\"\n",
        "\"***\"\n",
        "\"*****\"\n",
        "\"***\"\n",
        "\"*\""
      ],
      "metadata": {
        "id": "RM-jUEQ0z1jJ"
      }
    },
    {
      "cell_type": "code",
      "source": [
        "n=int(input(\"enter n\"))\n",
        "for i in range (1,n,2):\n",
        "  print(i*'*')\n",
        "for i in range (n,0,-2):\n",
        "  print(i*'*')"
      ],
      "metadata": {
        "colab": {
          "base_uri": "https://localhost:8080/",
          "height": 0
        },
        "id": "ha2-aZ0Yz1si",
        "outputId": "61aed132-e1b4-478a-a6d9-f0f47a42513b"
      },
      "execution_count": 70,
      "outputs": [
        {
          "output_type": "stream",
          "name": "stdout",
          "text": [
            "enter n5\n",
            "*\n",
            "***\n",
            "*****\n",
            "***\n",
            "*\n"
          ]
        }
      ]
    },
    {
      "cell_type": "markdown",
      "source": [
        "8. Case Study: Count Even and Odd\n",
        "Problem: Count even and odd numbers from a tuple using a loop.\n",
        "Test Case:\n",
        "Input: (1, 2, 3, 4, 5)\n",
        "Output: Even: 2, Odd: 3"
      ],
      "metadata": {
        "id": "_TjEDii101O3"
      }
    },
    {
      "cell_type": "code",
      "source": [
        "numbers=[1,2,3,4,5]\n",
        "even=0\n",
        "odd=0\n",
        "for num in numbers:\n",
        "  if (num%2==0):\n",
        "    even+=1\n",
        "  else:\n",
        "    odd+=1\n",
        "print(f\"even{even}\")\n",
        "print(f\"odd{odd}\")\n"
      ],
      "metadata": {
        "colab": {
          "base_uri": "https://localhost:8080/",
          "height": 0
        },
        "id": "0snJIuTq04m-",
        "outputId": "d0aa108c-d0a5-4fa3-d325-66ee4fcfa901"
      },
      "execution_count": 71,
      "outputs": [
        {
          "output_type": "stream",
          "name": "stdout",
          "text": [
            "even2\n",
            "odd3\n"
          ]
        }
      ]
    },
    {
      "cell_type": "markdown",
      "source": [
        "9. Case Study: Unique Fruits\n",
        "Problem: From a list of fruits, print the unique ones using set.\n",
        "Test Case:\n",
        "Input: ['apple', 'banana', 'apple', 'orange']\n",
        "Output: {'apple', 'banana', 'orange'}"
      ],
      "metadata": {
        "id": "eVRu8BQ_34aA"
      }
    },
    {
      "cell_type": "code",
      "source": [
        "fruits=['apple', 'banana', 'apple', 'orange']\n",
        "setfru=set()\n",
        "for fruit in fruits:\n",
        "  setfru.add(fruit)\n",
        "print(setfru)"
      ],
      "metadata": {
        "colab": {
          "base_uri": "https://localhost:8080/",
          "height": 0
        },
        "id": "96l4fceK4g9z",
        "outputId": "d58901f6-b0f4-4e3d-b58e-0497cca8d393"
      },
      "execution_count": 72,
      "outputs": [
        {
          "output_type": "stream",
          "name": "stdout",
          "text": [
            "{'orange', 'apple', 'banana'}\n"
          ]
        }
      ]
    },
    {
      "cell_type": "markdown",
      "source": [
        "10. Case Study: Sum Dictionary Values\n",
        "Problem: Calculate the total marks from a dictionary of subject marks.\n",
        "Test Case:\n",
        "Input: {'Math': 70, 'English': 80, 'Science': 75}\n",
        "Output: Total: 225"
      ],
      "metadata": {
        "id": "x-6fS-VA41DW"
      }
    },
    {
      "cell_type": "code",
      "source": [
        "marks={'Math': 70, 'English': 80, 'Science': 75}\n",
        "sum=0\n",
        "for key,value in marks.items():\n",
        "  sum+=value\n",
        "print(f\"Total : {sum}\")"
      ],
      "metadata": {
        "colab": {
          "base_uri": "https://localhost:8080/",
          "height": 0
        },
        "id": "Tl76HZ2545rd",
        "outputId": "a3d3f8af-d81f-4cd3-a229-020ae4200ee4"
      },
      "execution_count": 73,
      "outputs": [
        {
          "output_type": "stream",
          "name": "stdout",
          "text": [
            "Total : 225\n"
          ]
        }
      ]
    },
    {
      "cell_type": "markdown",
      "source": [
        "11. Case Study: Reverse List\n",
        "Problem: Reverse a list using a loop.\n",
        "Test Case:\n",
        "Input: [10, 20, 30]\n",
        "Output: [30, 20, 10]"
      ],
      "metadata": {
        "id": "dHNL1co_5QNu"
      }
    },
    {
      "cell_type": "code",
      "source": [
        "arr=[10,20,30]\n",
        "revarr=[]\n",
        "for i in range(len(arr)-1,-1,-1):\n",
        "  revarr.append(arr[i])\n",
        "print(revarr)\n"
      ],
      "metadata": {
        "colab": {
          "base_uri": "https://localhost:8080/",
          "height": 0
        },
        "id": "WGgYwyHr5UWU",
        "outputId": "7cc10475-91d3-4cb6-90ad-51f18f1b8f48"
      },
      "execution_count": 74,
      "outputs": [
        {
          "output_type": "stream",
          "name": "stdout",
          "text": [
            "[30, 20, 10]\n"
          ]
        }
      ]
    },
    {
      "cell_type": "markdown",
      "source": [
        "12. Case Study: Login Verification\n",
        "Problem: Use `==` operator to check if entered username matches the stored one.\n",
        "Test Case:\n",
        "Input: Stored = admin, Entered = admin\n",
        "Output: Login Successful"
      ],
      "metadata": {
        "id": "IwWUgsZ26PC4"
      }
    },
    {
      "cell_type": "code",
      "source": [
        "stored=\"admin\"\n",
        "entered=\"admin\"\n",
        "if(stored==entered):\n",
        "  print(\"Login succesful\")"
      ],
      "metadata": {
        "colab": {
          "base_uri": "https://localhost:8080/",
          "height": 0
        },
        "id": "4fThrGWz6VI-",
        "outputId": "538bd599-7af9-4847-e885-9ea1dc7c8345"
      },
      "execution_count": 75,
      "outputs": [
        {
          "output_type": "stream",
          "name": "stdout",
          "text": [
            "Login succesful\n"
          ]
        }
      ]
    },
    {
      "cell_type": "markdown",
      "source": [
        "Problem: Loop through a dictionary to find the total number of books.\n",
        "Test Case:\n",
        "Input: {'Math': 5, 'History': 4, 'English': 6}\n",
        "Output: Total Books: 15"
      ],
      "metadata": {
        "id": "JN4tHlF06k3Q"
      }
    },
    {
      "cell_type": "markdown",
      "source": [],
      "metadata": {
        "id": "90ZnIJbg6nnq"
      }
    },
    {
      "cell_type": "code",
      "source": [
        "books={'Math': 5, 'History': 4, 'English': 6}\n",
        "sum=0\n",
        "for key,value in books.items():\n",
        "  sum+=value\n",
        "print(f\"Total Books : {sum}\")"
      ],
      "metadata": {
        "colab": {
          "base_uri": "https://localhost:8080/",
          "height": 0
        },
        "id": "Hh12plpW6n9s",
        "outputId": "56fa391c-bf74-474d-bcbf-f53aa3d9ae32"
      },
      "execution_count": 76,
      "outputs": [
        {
          "output_type": "stream",
          "name": "stdout",
          "text": [
            "Total Books : 15\n"
          ]
        }
      ]
    },
    {
      "cell_type": "markdown",
      "source": [
        "Problem: Print numbers divisible by 3 from 1 to 20 using a loop.\n",
        "Test Case:\n",
        "Output: 3, 6, 9, 12, 15, 18"
      ],
      "metadata": {
        "id": "dDsNL4186yk-"
      }
    },
    {
      "cell_type": "code",
      "source": [
        "for i in range(1,21):\n",
        "  if(i%3==0):\n",
        "    print(i)"
      ],
      "metadata": {
        "colab": {
          "base_uri": "https://localhost:8080/",
          "height": 0
        },
        "id": "SENHJygt61iH",
        "outputId": "9c144892-2e17-401f-d2c3-360a3989f2f6"
      },
      "execution_count": 77,
      "outputs": [
        {
          "output_type": "stream",
          "name": "stdout",
          "text": [
            "3\n",
            "6\n",
            "9\n",
            "12\n",
            "15\n",
            "18\n"
          ]
        }
      ]
    },
    {
      "cell_type": "markdown",
      "source": [
        "Problem: Use a loop and operator to compare elements of two lists and print common\n",
        "items.\n",
        "Test Case:\n",
        "Input: [1, 2, 3] and [2, 3, 4]\n",
        "Output: [2, 3]"
      ],
      "metadata": {
        "id": "Q7KbMRjM7HzX"
      }
    },
    {
      "cell_type": "code",
      "source": [
        "l1=[1,2,3]\n",
        "l2=[2,3,4]\n",
        "for l in l1:\n",
        "  if l in l2:\n",
        "    print(l)"
      ],
      "metadata": {
        "colab": {
          "base_uri": "https://localhost:8080/",
          "height": 0
        },
        "id": "8ndZzHF47IuH",
        "outputId": "d90f8dda-9e5e-479f-a150-043f3926a5e7"
      },
      "execution_count": 78,
      "outputs": [
        {
          "output_type": "stream",
          "name": "stdout",
          "text": [
            "2\n",
            "3\n"
          ]
        }
      ]
    },
    {
      "cell_type": "markdown",
      "source": [
        "16. Case Study: Vowel Counter\n",
        "Problem: Count the number of vowels in a word using loop and condition.\n",
        "Test Case:\n",
        "Input: 'education'\n",
        "Output: 5"
      ],
      "metadata": {
        "id": "Fy_-pZNR7ivT"
      }
    },
    {
      "cell_type": "code",
      "source": [
        "word =\"education\"\n",
        "vowels=['a','e','i','o','u']\n",
        "sum=0;\n",
        "for c in word:\n",
        "  if c in vowels:\n",
        "    sum+=1\n",
        "print(sum)"
      ],
      "metadata": {
        "colab": {
          "base_uri": "https://localhost:8080/",
          "height": 0
        },
        "id": "3IsPC_4K7olG",
        "outputId": "13f12286-b1e9-43aa-b24c-ebb8268f3679"
      },
      "execution_count": 79,
      "outputs": [
        {
          "output_type": "stream",
          "name": "stdout",
          "text": [
            "5\n"
          ]
        }
      ]
    },
    {
      "cell_type": "markdown",
      "source": [
        "17. Case Study: Duplicate Remover\n",
        "Problem: Remove duplicates from a list using a set and convert back to list.\n",
        "Test Case:\n",
        "Input: [1, 1, 2, 3, 3]\n",
        "Output: [1, 2, 3]"
      ],
      "metadata": {
        "id": "l4L8zVqN8DZg"
      }
    },
    {
      "cell_type": "code",
      "source": [
        "numbers= [1, 1, 2, 3, 3]\n",
        "s=set()\n",
        "for num in numbers:\n",
        "  s.add(num)\n",
        "numbers=list(s)\n",
        "print(numbers)"
      ],
      "metadata": {
        "colab": {
          "base_uri": "https://localhost:8080/",
          "height": 0
        },
        "id": "ImNnrGWt8E7Y",
        "outputId": "50e7b740-c70b-42ba-da0f-6cc526032071"
      },
      "execution_count": 80,
      "outputs": [
        {
          "output_type": "stream",
          "name": "stdout",
          "text": [
            "[1, 2, 3]\n"
          ]
        }
      ]
    },
    {
      "cell_type": "markdown",
      "source": [
        "18. Case Study: Student Rank\n",
        "Problem: Store and display student names with ranks using dictionary (Rank as key).\n",
        "Test Case:\n",
        "Input: {1: 'John', 2: 'Alice'}\n",
        "Output:\n",
        "1 - John\n",
        "2 - Alice"
      ],
      "metadata": {
        "id": "ErrGq2918ibl"
      }
    },
    {
      "cell_type": "code",
      "source": [
        "rank= {1: 'John', 2: 'Alice'}\n",
        "for key,values in rank.items():\n",
        "  print(f\"{key} : {values}\")"
      ],
      "metadata": {
        "colab": {
          "base_uri": "https://localhost:8080/",
          "height": 0
        },
        "id": "iNCmocgg8pDB",
        "outputId": "93f666b8-9fee-4138-b768-8e16a0107110"
      },
      "execution_count": 81,
      "outputs": [
        {
          "output_type": "stream",
          "name": "stdout",
          "text": [
            "1 : John\n",
            "2 : Alice\n"
          ]
        }
      ]
    },
    {
      "cell_type": "markdown",
      "source": [
        "Problem: Print all coordinate pairs from two ranges using nested loops.\n",
        "Test Case:\n",
        "Input: range(2) and range(3)\n",
        "Output:\n",
        "(0, 0)\n",
        "\n",
        "(0, 1)\n",
        "(0, 2)\n",
        "(1, 0)\n",
        "(1, 1)\n",
        "(1, 2)"
      ],
      "metadata": {
        "id": "uILTatUq89pl"
      }
    },
    {
      "cell_type": "code",
      "source": [
        "for i in range (2):\n",
        "  for j in range (3):\n",
        "    print(f\"({i},{j})\")"
      ],
      "metadata": {
        "colab": {
          "base_uri": "https://localhost:8080/",
          "height": 0
        },
        "id": "KZ09oYxm9Ccm",
        "outputId": "533f0343-b6d4-4af7-be8f-3cb5a0072bde"
      },
      "execution_count": 82,
      "outputs": [
        {
          "output_type": "stream",
          "name": "stdout",
          "text": [
            "(0,0)\n",
            "(0,1)\n",
            "(0,2)\n",
            "(1,0)\n",
            "(1,1)\n",
            "(1,2)\n"
          ]
        }
      ]
    },
    {
      "cell_type": "markdown",
      "source": [
        "20. Case Study: Password Strength\n",
        "Problem: Check if a password contains both digits and letters using loops and operators.\n",
        "Test Case:\n",
        "Input: 'pass123'\n",
        "Output: Strong Password"
      ],
      "metadata": {
        "id": "ePHMRSNN9QYe"
      }
    },
    {
      "cell_type": "code",
      "source": [
        "flagletter=False\n",
        "flagdigit=False\n",
        "password=\"Pass123\"\n",
        "for ch in password:\n",
        "  if (not flagletter):\n",
        "    if(ord(ch)<=122 and ord(ch)>=65):\n",
        "      flagletter=True\n",
        "  if (not flagdigit and ch.isdigit()):\n",
        "      flagdigit=True\n",
        "if(flagletter and flagdigit):\n",
        "  print(\"Strong Password\")\n",
        "else:\n",
        "  print(\"Weak Password\")\n",
        "\n"
      ],
      "metadata": {
        "colab": {
          "base_uri": "https://localhost:8080/",
          "height": 0
        },
        "id": "wCSGnSU99Wag",
        "outputId": "b759e930-1760-40dc-d3fd-95870a98474d"
      },
      "execution_count": 83,
      "outputs": [
        {
          "output_type": "stream",
          "name": "stdout",
          "text": [
            "Strong Password\n"
          ]
        }
      ]
    },
    {
      "cell_type": "code",
      "source": [],
      "metadata": {
        "id": "AWXfYdrH_DJT"
      },
      "execution_count": 83,
      "outputs": []
    }
  ]
}